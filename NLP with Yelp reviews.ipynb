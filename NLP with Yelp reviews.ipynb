{
 "cells": [
  {
   "cell_type": "markdown",
   "metadata": {},
   "source": [
    "<h2>Springboard, Capstone #2: NLP with Yelp reviews</h2>\n",
    "\n",
    "<b>Overview:</b> Customer reviews over a wealth of information, and Yelp.com is one of the most extensive places to look for reviews of any kind. Whether it's a restaurant, business, or other consumer experience, Yelp facilitates users telling other users what they thought of a product, allowing other people to make choices about what to buy and where to spend their money. Natural language processing, naturally (::chuckle::), allows us to harness this text data and to use it for business insights. \n",
    "\n",
    "<b>The dataset:</b> This dataset comes publicly available from Yelp.com [here](https://www.yelp.com/dataset/download), where the organization originally published the data to encourage students to play with the data and to gain insights that they could share, in return, with Yelp about their customers. The files in the dataset are JSON format, and for this project, we'll be looking at:\n",
    "* 'yelp_academic_dataset_review.json', for the review content;\n",
    "*and 'yelp_academic_dataset_user.json' for user-specific information.\n",
    "\n",
    "<b>The goal:</b> The objective with this project is to process the text data provided in customer reviews (i.e. starting, for example, with restaurant reviews) to:\n",
    "* 1) cluster restaurant goers into groups using machine learning techniques;\n",
    "* 2) recommend other, similar restaurants to those users based on their previous Yelp reviews."
   ]
  },
  {
   "cell_type": "code",
   "execution_count": 6,
   "metadata": {},
   "outputs": [],
   "source": [
    "import pandas as pd"
   ]
  },
  {
   "cell_type": "code",
   "execution_count": 23,
   "metadata": {},
   "outputs": [
    {
     "name": "stdout",
     "output_type": "stream",
     "text": [
      "['./._Dataset_Challenge_Dataset_Agreement.pdf', 'Dataset_Challenge_Dataset_Agreement.pdf', './._Yelp_Dataset_Challenge_Round_12.pdf', 'Yelp_Dataset_Challenge_Round_12.pdf', 'yelp_academic_dataset_business.json', 'yelp_academic_dataset_checkin.json', 'yelp_academic_dataset_photo.json', 'yelp_academic_dataset_review.json', 'yelp_academic_dataset_tip.json', 'yelp_academic_dataset_user.json']\n"
     ]
    }
   ],
   "source": [
    "import tarfile\n",
    "\n",
    "with tarfile.open('yelp_dataset.tar', 'r') as t:\n",
    "    print(t.getnames())"
   ]
  },
  {
   "cell_type": "code",
   "execution_count": 25,
   "metadata": {},
   "outputs": [
    {
     "name": "stdout",
     "output_type": "stream",
     "text": [
      "./._Dataset_Challenge_Dataset_Agreement.pdf\n",
      "  Modified: Tue Jul 31 11:34:32 2018\n",
      "  Mode    : 0o644\n",
      "  Type    : b'0'\n",
      "  Size    : 674 bytes\n",
      "\n",
      "Dataset_Challenge_Dataset_Agreement.pdf\n",
      "  Modified: Tue Jul 31 11:34:32 2018\n",
      "  Mode    : 0o644\n",
      "  Type    : b'0'\n",
      "  Size    : 100912 bytes\n",
      "\n",
      "./._Yelp_Dataset_Challenge_Round_12.pdf\n",
      "  Modified: Tue Jul 31 11:34:00 2018\n",
      "  Mode    : 0o644\n",
      "  Type    : b'0'\n",
      "  Size    : 674 bytes\n",
      "\n",
      "Yelp_Dataset_Challenge_Round_12.pdf\n",
      "  Modified: Tue Jul 31 11:34:00 2018\n",
      "  Mode    : 0o644\n",
      "  Type    : b'0'\n",
      "  Size    : 111712 bytes\n",
      "\n",
      "yelp_academic_dataset_business.json\n",
      "  Modified: Mon Jul  2 17:22:59 2018\n",
      "  Mode    : 0o644\n",
      "  Type    : b'0'\n",
      "  Size    : 146374098 bytes\n",
      "\n",
      "yelp_academic_dataset_checkin.json\n",
      "  Modified: Mon Jul  2 17:25:06 2018\n",
      "  Mode    : 0o644\n",
      "  Type    : b'0'\n",
      "  Size    : 52744210 bytes\n",
      "\n",
      "yelp_academic_dataset_photo.json\n",
      "  Modified: Tue Jul 31 13:55:22 2018\n",
      "  Mode    : 0o644\n",
      "  Type    : b'0'\n",
      "  Size    : 36596656 bytes\n",
      "\n",
      "yelp_academic_dataset_review.json\n",
      "  Modified: Mon Jul  2 17:33:56 2018\n",
      "  Mode    : 0o644\n",
      "  Type    : b'0'\n",
      "  Size    : 4717078453 bytes\n",
      "\n",
      "yelp_academic_dataset_tip.json\n",
      "  Modified: Mon Jul  2 17:26:16 2018\n",
      "  Mode    : 0o644\n",
      "  Type    : b'0'\n",
      "  Size    : 213316940 bytes\n",
      "\n",
      "yelp_academic_dataset_user.json\n",
      "  Modified: Mon Jul  2 17:24:56 2018\n",
      "  Mode    : 0o644\n",
      "  Type    : b'0'\n",
      "  Size    : 2188485470 bytes\n",
      "\n"
     ]
    }
   ],
   "source": [
    "import time\n",
    "\n",
    "with tarfile.open('yelp_dataset.tar', 'r') as t:\n",
    "    for member_info in t.getmembers():\n",
    "        print(member_info.name)\n",
    "        print('  Modified:', time.ctime(member_info.mtime))\n",
    "        print('  Mode    :', oct(member_info.mode))\n",
    "        print('  Type    :', member_info.type)\n",
    "        print('  Size    :', member_info.size, 'bytes')\n",
    "        print()"
   ]
  },
  {
   "cell_type": "code",
   "execution_count": 33,
   "metadata": {},
   "outputs": [],
   "source": [
    "import tarfile\n",
    "\n",
    "y = tarfile.open('yelp_dataset.tar')\n",
    "\n",
    "y_data = y.extractall()"
   ]
  },
  {
   "cell_type": "code",
   "execution_count": 40,
   "metadata": {},
   "outputs": [
    {
     "name": "stdout",
     "output_type": "stream",
     "text": [
      "{\"review_id\":\"x7mDIiDB3jEiPGPHOmDzyw\",\"user_id\":\"msQe1u7Z_XuqjGoqhB0J5g\",\"business_id\":\"iCQpiavjjPzJ5_3gPD5Ebg\",\"stars\":2,\"date\":\"2011-02-25\",\"text\":\"The pizza was okay. Not the best I've had. I prefer Biaggio's on Flamingo \\/ Fort Apache. The chef there can make a MUCH better NY style pizza. The pizzeria @ Cosmo was over priced for the quality and lack of personality in the food. Biaggio's is a much better pick if youre going for italian - family owned, home made recipes, people that actually CARE if you like their food. You dont get that at a pizzeria in a casino. I dont care what you say...\",\"useful\":0,\"funny\":0,\"cool\":0}\n",
      "\n"
     ]
    }
   ],
   "source": [
    "import codecs\n",
    "\n",
    "with codecs.open('yelp_academic_dataset_review.json', encoding='utf-8') as f:\n",
    "    first_review = f.readline()\n",
    "\n",
    "print(first_review)"
   ]
  },
  {
   "cell_type": "code",
   "execution_count": null,
   "metadata": {},
   "outputs": [],
   "source": []
  },
  {
   "cell_type": "code",
   "execution_count": null,
   "metadata": {},
   "outputs": [],
   "source": []
  },
  {
   "cell_type": "code",
   "execution_count": null,
   "metadata": {},
   "outputs": [],
   "source": []
  },
  {
   "cell_type": "code",
   "execution_count": null,
   "metadata": {},
   "outputs": [],
   "source": []
  }
 ],
 "metadata": {
  "kernelspec": {
   "display_name": "Python 3",
   "language": "python",
   "name": "python3"
  },
  "language_info": {
   "codemirror_mode": {
    "name": "ipython",
    "version": 3
   },
   "file_extension": ".py",
   "mimetype": "text/x-python",
   "name": "python",
   "nbconvert_exporter": "python",
   "pygments_lexer": "ipython3",
   "version": "3.6.5"
  }
 },
 "nbformat": 4,
 "nbformat_minor": 2
}
