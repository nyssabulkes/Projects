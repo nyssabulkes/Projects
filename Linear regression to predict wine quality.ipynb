{
 "cells": [
  {
   "cell_type": "markdown",
   "metadata": {},
   "source": [
    "<b> Predicting wine quality: A comparison between Python and R data-analysis methods</b>\n",
    "\n",
    "<b> Overview:</b> I started this project to get my feet wet with data analysis and processing using Python. A classic, the wine quality dataset provides information on physiocochemical and sensory variables, facilitating the ability to predict the quality of the wine produced (Cortez et al, 2009). Specifically, I use the red wine dataset (publicly available here: https://archive.ics.uci.edu/ml/datasets/wine+quality). First, I'll explore this dataset using Python; later, I'll explore the dataset using R with the aim to compare the results of analyses using different languages.\n",
    "\n",
    "<b>Relevant publication</b>\n",
    "\n",
    "P. Cortez, A. Cerdeira, F. Almeida, T. Matos and J. Reis. (2009). Modeling wine preferences by data mining from physicochemical properties. <i>Decision Support Systems, 47</i>(4), 547-553."
   ]
  },
  {
   "cell_type": "code",
   "execution_count": 1,
   "metadata": {},
   "outputs": [],
   "source": [
    "# Import necessary modules\n",
    "import pandas as pd\n",
    "import matplotlib.pyplot as plt\n",
    "import numpy as np\n",
    "import scipy\n",
    "from scipy.stats import stats\n",
    "from scipy.stats import zscore\n",
    "import statsmodels.api as sm"
   ]
  },
  {
   "cell_type": "code",
   "execution_count": 2,
   "metadata": {},
   "outputs": [
    {
     "name": "stdout",
     "output_type": "stream",
     "text": [
      "<class 'pandas.core.frame.DataFrame'>\n",
      "RangeIndex: 1599 entries, 0 to 1598\n",
      "Data columns (total 12 columns):\n",
      "fixed acidity           1599 non-null float64\n",
      "volatile acidity        1599 non-null float64\n",
      "citric acid             1599 non-null float64\n",
      "residual sugar          1599 non-null float64\n",
      "chlorides               1599 non-null float64\n",
      "free sulfur dioxide     1599 non-null float64\n",
      "total sulfur dioxide    1599 non-null float64\n",
      "density                 1599 non-null float64\n",
      "pH                      1599 non-null float64\n",
      "sulphates               1599 non-null float64\n",
      "alcohol                 1599 non-null float64\n",
      "quality                 1599 non-null int64\n",
      "dtypes: float64(11), int64(1)\n",
      "memory usage: 150.0 KB\n",
      "None\n"
     ]
    }
   ],
   "source": [
    "# Read in the data: wine_data\n",
    "file = 'https://github.com/nyssabulkes/Projects/blob/master/winequality-red.csv'\n",
    "wine_data = pd.read_csv(file)\n",
    "\n",
    "# Explore the data\n",
    "print(wine_data.info())"
   ]
  },
  {
   "cell_type": "code",
   "execution_count": 3,
   "metadata": {},
   "outputs": [
    {
     "name": "stdout",
     "output_type": "stream",
     "text": [
      "<class 'pandas.core.frame.DataFrame'>\n",
      "Int64Index: 1359 entries, 0 to 1598\n",
      "Data columns (total 12 columns):\n",
      "fixed acidity           1359 non-null float64\n",
      "volatile acidity        1359 non-null float64\n",
      "citric acid             1359 non-null float64\n",
      "residual sugar          1359 non-null float64\n",
      "chlorides               1359 non-null float64\n",
      "free sulfur dioxide     1359 non-null float64\n",
      "total sulfur dioxide    1359 non-null float64\n",
      "density                 1359 non-null float64\n",
      "pH                      1359 non-null float64\n",
      "sulphates               1359 non-null float64\n",
      "alcohol                 1359 non-null float64\n",
      "quality                 1359 non-null int64\n",
      "dtypes: float64(11), int64(1)\n",
      "memory usage: 138.0 KB\n",
      "None\n"
     ]
    }
   ],
   "source": [
    "# Drop duplicates\n",
    "wine_data = wine_data.drop_duplicates()\n",
    "print(wine_data.info())"
   ]
  },
  {
   "cell_type": "markdown",
   "metadata": {},
   "source": [
    "<b> #1: Count something interesting: </b> In the summary of chemical properties provided with the data, we know that <b>residual sugar</b> is the amount of sugar left over after the fermentation process concludes. It's further indicated that it's unusual for a wine to have less than 1 gram/liter of residual sugar, while wines with more than 45 grams/liter are found to be too sweet."
   ]
  },
  {
   "cell_type": "code",
   "execution_count": 4,
   "metadata": {},
   "outputs": [
    {
     "name": "stdout",
     "output_type": "stream",
     "text": [
      "1\n"
     ]
    }
   ],
   "source": [
    "# Count the observations with less than 1 gram/liter and more than 45 grams/liter: sugar\n",
    "sugar = (wine_data['residual sugar'] < 1) | (wine_data['residual sugar'] > 45)\n",
    "print(sum(sugar))"
   ]
  },
  {
   "cell_type": "markdown",
   "metadata": {},
   "source": [
    "<b> #2: Find trends (e.g. high, low, increasing, decreasing, anomalies): </b> In exploring and cleaning the data, it's a smart initial step to look for outliers, or what might be considered anomalies. However, as a scientist who's new to physicochemical traits, I wanted to know: a) what outliers are there, if any; and b) where are they. Although I don't have any theoretical reason to remove outliers from these data--i.e. perhaps they're just extreme, not erroneous values--it's important to acknowledge and be aware of them, and further, to understand the role they play in the data if left in."
   ]
  },
  {
   "cell_type": "code",
   "execution_count": 5,
   "metadata": {},
   "outputs": [],
   "source": [
    "# Create a list of the column names\n",
    "column_names = [col for col in wine_data]\n",
    "column_names.remove('quality')\n",
    "\n",
    "# Group data: standardized\n",
    "standardized = wine_data.groupby('quality')[column_names].transform(zscore)\n",
    "\n",
    "# Construct a Boolean Series to build a list of the outlier count per column: outliers\n",
    "number_of_outliers = []\n",
    "for col in column_names:\n",
    "    outliers = (standardized[col] < -3) | (standardized[col] > 3)\n",
    "    number_of_outliers.append(sum(outliers))"
   ]
  },
  {
   "cell_type": "code",
   "execution_count": 6,
   "metadata": {},
   "outputs": [],
   "source": [
    "# Define lists_to_dict()\n",
    "def lists_to_dict(list1, list2):\n",
    "    \"\"\"Return a dictionary where list1 provides\n",
    "    the keys and list2 provides the values.\"\"\"\n",
    "\n",
    "    # Zip lists: zipped_lists\n",
    "    zipped_lists = zip(list1, list2)\n",
    "\n",
    "    # Create a dictionary: new_dict\n",
    "    new_dict = dict(zipped_lists)\n",
    "\n",
    "    # Return the dictionary\n",
    "    return new_dict\n"
   ]
  },
  {
   "cell_type": "code",
   "execution_count": 7,
   "metadata": {},
   "outputs": [
    {
     "name": "stdout",
     "output_type": "stream",
     "text": [
      "{'fixed acidity': 12, 'volatile acidity': 11, 'citric acid': 2, 'residual sugar': 28, 'chlorides': 33, 'free sulfur dioxide': 19, 'total sulfur dioxide': 8, 'density': 10, 'pH': 6, 'sulphates': 25, 'alcohol': 13}\n"
     ]
    }
   ],
   "source": [
    "# Create dictionary of outliers\n",
    "outlier_dict = lists_to_dict(column_names, number_of_outliers)\n",
    "print(outlier_dict)"
   ]
  },
  {
   "cell_type": "markdown",
   "metadata": {},
   "source": [
    "<b> #3: Make a histogram: </b> To really get a good 'picture' of the data, visualization is needed. Here, I create 12 subplots showing the distribution of values in each of the 12 columns."
   ]
  },
  {
   "cell_type": "code",
   "execution_count": 8,
   "metadata": {},
   "outputs": [
    {
     "data": {
      "image/png": "[encoded data removed]",
      "text/plain": [
       "<Figure size 432x288 with 12 Axes>"
      ]
     },
     "metadata": {},
     "output_type": "display_data"
    }
   ],
   "source": [
    "# Create subplots showing histograms of each grape property; the default 10 bins are used\n",
    "plt.subplot(3, 4, 1)\n",
    "plt.hist(wine_data['fixed acidity'], color = 'blue') \n",
    "plt.title('Fixed acidity')\n",
    "\n",
    "plt.subplot(3, 4, 2)\n",
    "plt.hist(wine_data['volatile acidity'], color = 'blue')\n",
    "plt.title('Volatile acidity')\n",
    "\n",
    "plt.subplot(3, 4, 3)\n",
    "plt.hist(wine_data['citric acid'], color = 'blue')\n",
    "plt.title('Citric acid')\n",
    "\n",
    "plt.subplot(3, 4, 4)\n",
    "plt.hist(wine_data['residual sugar'], color = 'blue')\n",
    "plt.title('Residual sugar')\n",
    "\n",
    "plt.subplot(3, 4, 5)\n",
    "plt.hist(wine_data['chlorides'], color = 'blue')\n",
    "plt.title('Chlorides')\n",
    "\n",
    "plt.subplot(3, 4, 6)\n",
    "plt.hist(wine_data['free sulfur dioxide'], color = 'blue')\n",
    "plt.title('Free sulfur dioxide')\n",
    "\n",
    "plt.subplot(3, 4, 7)\n",
    "plt.hist(wine_data['total sulfur dioxide'], color = 'blue')\n",
    "plt.title('Total sulfur dioxide')\n",
    "\n",
    "plt.subplot(3, 4, 8)\n",
    "plt.hist(wine_data['density'], color = 'blue')\n",
    "plt.title('Density')\n",
    "\n",
    "plt.subplot(3, 4, 9)\n",
    "plt.hist(wine_data['pH'], color = 'blue')\n",
    "plt.title('pH')\n",
    "\n",
    "plt.subplot(3, 4, 10)\n",
    "plt.hist(wine_data['sulphates'], color = 'blue')\n",
    "plt.title('Sulphates')\n",
    "\n",
    "plt.subplot(3, 4, 11)\n",
    "plt.hist(wine_data['density'], color = 'blue')\n",
    "plt.title('Density')\n",
    "\n",
    "plt.subplot(3, 4, 12)\n",
    "plt.hist(wine_data['quality'], color = 'blue')\n",
    "plt.title('Quality')\n",
    "\n",
    "plt.tight_layout()\n",
    "plt.show()"
   ]
  },
  {
   "cell_type": "markdown",
   "metadata": {},
   "source": [
    "<b> #4: Compare two related quantities: </b> According to the documentation of the dataset, <b>citric acid</b> contributes flavor, or \"freshness\" to wine. Relatedly, the wine's salt content is described in terms of <b>chlorides</b>, which could also affect the taste of the wine. In this section, I explore whether these two variables are statistically related."
   ]
  },
  {
   "cell_type": "code",
   "execution_count": 9,
   "metadata": {},
   "outputs": [
    {
     "data": {
      "image/png": "[encoded data removed]",
      "text/plain": [
       "<Figure size 432x288 with 2 Axes>"
      ]
     },
     "metadata": {},
     "output_type": "display_data"
    }
   ],
   "source": [
    "# Visualize citric acid and chlorides columns only; tailored bin settings\n",
    "plt.subplot(1, 2, 1)\n",
    "plt.hist(wine_data['citric acid'], bins=12, color='blue') \n",
    "plt.title('Citric acid')\n",
    "\n",
    "plt.subplot(1, 2, 2)\n",
    "plt.hist(wine_data['chlorides'], bins=15, color='blue')\n",
    "plt.title('Chlorides')\n",
    "\n",
    "plt.tight_layout()\n",
    "plt.show()"
   ]
  },
  {
   "cell_type": "code",
   "execution_count": 10,
   "metadata": {},
   "outputs": [
    {
     "name": "stdout",
     "output_type": "stream",
     "text": [
      "(0.21019453388539414, 4.9084746722901246e-15)\n"
     ]
    }
   ],
   "source": [
    "# Calculate Pearson correlation coefficient, p-value\n",
    "print(scipy.stats.pearsonr(wine_data['citric acid'], wine_data['chlorides']))"
   ]
  },
  {
   "cell_type": "markdown",
   "metadata": {},
   "source": [
    "<b>#5: Make a scatterplot: </b> Making a scatterplot is a natural step when calculating the correlation coefficient, as it allows seeing the relationship between two variables visually. "
   ]
  },
  {
   "cell_type": "code",
   "execution_count": 11,
   "metadata": {},
   "outputs": [
    {
     "data": {
      "image/png": "[encoded data removed]",
      "text/plain": [
       "<Figure size 432x288 with 1 Axes>"
      ]
     },
     "metadata": {},
     "output_type": "display_data"
    }
   ],
   "source": [
    "# Visualize relationship: scatterplot\n",
    "wine_data.plot(kind='scatter', x='citric acid', y='chlorides')\n",
    "plt.show()"
   ]
  },
  {
   "cell_type": "markdown",
   "metadata": {},
   "source": [
    "Both the weak correlation coefficient (r=0.21) and the scatterplot provide little evidence that citric acid and chlorides are related to each other.\n",
    "\n",
    "<b>However,</b> the documentation also suggests that <b>volatile acidity</b> is relevant for a discussion of wine flavor, where higher values can create an unpleasant, vinegar taste.\n",
    "\n",
    "Using this same exploratory data analysis approach, we can explore how volatile acidity is related to both citric acid and to chlorides."
   ]
  },
  {
   "cell_type": "code",
   "execution_count": 12,
   "metadata": {},
   "outputs": [
    {
     "data": {
      "image/png": "[encoded data removed]",
      "text/plain": [
       "<Figure size 432x288 with 3 Axes>"
      ]
     },
     "metadata": {},
     "output_type": "display_data"
    }
   ],
   "source": [
    "# Add the third subplot for volatile acidity; tailored bin settings\n",
    "plt.subplot(1, 3, 1)\n",
    "plt.hist(wine_data['citric acid'], bins=12, color='blue') \n",
    "plt.title('Citric acid')\n",
    "\n",
    "plt.subplot(1, 3, 2)\n",
    "plt.hist(wine_data['chlorides'], bins=15, color='blue')\n",
    "plt.title('Chlorides')\n",
    "\n",
    "plt.subplot(1, 3, 3)\n",
    "plt.hist(wine_data['volatile acidity'], bins=10, color='blue')\n",
    "plt.title('Volatile acidity')\n",
    "\n",
    "plt.tight_layout()\n",
    "plt.show()"
   ]
  },
  {
   "cell_type": "code",
   "execution_count": 13,
   "metadata": {},
   "outputs": [
    {
     "name": "stdout",
     "output_type": "stream",
     "text": [
      "(-0.5512480416642106, 7.195032011644537e-109)\n"
     ]
    }
   ],
   "source": [
    "# Calculate Pearson correlation coefficient, p-value for citric acid and volatile acidity\n",
    "print(scipy.stats.pearsonr(wine_data['citric acid'], wine_data['volatile acidity']))"
   ]
  },
  {
   "cell_type": "code",
   "execution_count": 14,
   "metadata": {},
   "outputs": [
    {
     "data": {
      "image/png": "[encoded data removed]",
      "text/plain": [
       "<Figure size 432x288 with 1 Axes>"
      ]
     },
     "metadata": {},
     "output_type": "display_data"
    }
   ],
   "source": [
    "# Visualize moderate relationship between citric acid and volatile acidity\n",
    "wine_data.plot(kind='scatter', x='citric acid', y='volatile acidity')\n",
    "plt.show()"
   ]
  },
  {
   "cell_type": "code",
   "execution_count": 15,
   "metadata": {},
   "outputs": [
    {
     "name": "stdout",
     "output_type": "stream",
     "text": [
      "(0.055153670146704616, 0.042063086754654144)\n"
     ]
    }
   ],
   "source": [
    "# Calculate Pearson correlation coefficient, p-value for chlorides and volatile acidity\n",
    "print(scipy.stats.pearsonr(wine_data['chlorides'], wine_data['volatile acidity']))"
   ]
  },
  {
   "cell_type": "code",
   "execution_count": 16,
   "metadata": {},
   "outputs": [
    {
     "data": {
      "image/png": "[encoded data removed]",
      "text/plain": [
       "<Figure size 432x288 with 1 Axes>"
      ]
     },
     "metadata": {},
     "output_type": "display_data"
    }
   ],
   "source": [
    "# Visualize (non-existant) relationship between chlorides and volatile acidity\n",
    "wine_data.plot(kind='scatter', x='chlorides', y='volatile acidity')\n",
    "plt.show()"
   ]
  },
  {
   "cell_type": "markdown",
   "metadata": {},
   "source": [
    "The EDA revealed a moderate negative relationship between <b>citric acid</b> and <b>volatile acidity</b>. As the names of these columns suggest, this isn't entirely surprising, and this may be an example of data multicollinearity, where the independent variables are not truly independent. For example, although these values are listed in separate columns in the dataset, the reality is that two variables that each tap into acidity may not be truly independent of one another, and rather, <i>may vary together</i>. We could do a similar analysis with the other variables in the data that deal with acidity (e.g. fixed acidity) and would likely see a similar pattern. However, because we are interested in making predictions about wine quality using these variables, multicollinearity does not affect prediction, and we don't need to worry about it. \n",
    "\n",
    "On the other hand, <b>chlorides</b> and volatile acidity were unrelated. The scatterplot corroborates what is shown by the histogram created earlier of the distribution of values in the chlorides column, namely that the chloride values vary so minimally for every one unit of change in citric acid and volatile acidity. As a novice in the physicochemical field, I, for one, have learned that acidity is not the same thing as saltiness when it comes to wine. Interesting."
   ]
  },
  {
   "cell_type": "markdown",
   "metadata": {},
   "source": [
    "<b>But what factors predict wine quality? Wasn't that the whole point?</b>\n",
    "\n",
    "Why, yes! Now that we've explored the data and understand it a bit better, the logical next step is to understand how these factors impact the quality of the wine, our dependent variable. The <b>quality</b> column contains a score for each observation between 0 and 10, a score determined by sensory information.\n",
    "\n",
    "<b>Is the amount of residual sugar predictive of wine quality?</b>\n",
    "\n",
    "To start, one of the first variables we considered was <b>residual sugar</b>, where wines with more than 45 grams per liter are found to be overly sweet. We can start by doing a simple linear regression to predict wine quality based on residual sugar."
   ]
  },
  {
   "cell_type": "code",
   "execution_count": 17,
   "metadata": {},
   "outputs": [
    {
     "data": {
      "text/html": [
       "<table class=\"simpletable\">\n",
       "<caption>OLS Regression Results</caption>\n",
       "<tr>\n",
       "  <th>Dep. Variable:</th>         <td>quality</td>     <th>  R-squared:         </th> <td>   0.000</td>\n",
       "</tr>\n",
       "<tr>\n",
       "  <th>Model:</th>                   <td>OLS</td>       <th>  Adj. R-squared:    </th> <td>  -0.001</td>\n",
       "</tr>\n",
       "<tr>\n",
       "  <th>Method:</th>             <td>Least Squares</td>  <th>  F-statistic:       </th> <td>  0.2525</td>\n",
       "</tr>\n",
       "<tr>\n",
       "  <th>Date:</th>             <td>Sun, 26 Aug 2018</td> <th>  Prob (F-statistic):</th>  <td> 0.615</td> \n",
       "</tr>\n",
       "<tr>\n",
       "  <th>Time:</th>                 <td>16:47:18</td>     <th>  Log-Likelihood:    </th> <td> -1663.9</td>\n",
       "</tr>\n",
       "<tr>\n",
       "  <th>No. Observations:</th>      <td>  1359</td>      <th>  AIC:               </th> <td>   3332.</td>\n",
       "</tr>\n",
       "<tr>\n",
       "  <th>Df Residuals:</th>          <td>  1357</td>      <th>  BIC:               </th> <td>   3342.</td>\n",
       "</tr>\n",
       "<tr>\n",
       "  <th>Df Model:</th>              <td>     1</td>      <th>                     </th>     <td> </td>   \n",
       "</tr>\n",
       "<tr>\n",
       "  <th>Covariance Type:</th>      <td>nonrobust</td>    <th>                     </th>     <td> </td>   \n",
       "</tr>\n",
       "</table>\n",
       "<table class=\"simpletable\">\n",
       "<tr>\n",
       "         <td></td>           <th>coef</th>     <th>std err</th>      <th>t</th>      <th>P>|t|</th>  <th>[0.025</th>    <th>0.975]</th>  \n",
       "</tr>\n",
       "<tr>\n",
       "  <th>const</th>          <td>    5.6023</td> <td>    0.047</td> <td>  118.385</td> <td> 0.000</td> <td>    5.509</td> <td>    5.695</td>\n",
       "</tr>\n",
       "<tr>\n",
       "  <th>residual sugar</th> <td>    0.0083</td> <td>    0.017</td> <td>    0.503</td> <td> 0.615</td> <td>   -0.024</td> <td>    0.041</td>\n",
       "</tr>\n",
       "</table>\n",
       "<table class=\"simpletable\">\n",
       "<tr>\n",
       "  <th>Omnibus:</th>       <td>13.294</td> <th>  Durbin-Watson:     </th> <td>   1.747</td>\n",
       "</tr>\n",
       "<tr>\n",
       "  <th>Prob(Omnibus):</th> <td> 0.001</td> <th>  Jarque-Bera (JB):  </th> <td>  14.472</td>\n",
       "</tr>\n",
       "<tr>\n",
       "  <th>Skew:</th>          <td> 0.189</td> <th>  Prob(JB):          </th> <td>0.000720</td>\n",
       "</tr>\n",
       "<tr>\n",
       "  <th>Kurtosis:</th>      <td> 3.335</td> <th>  Cond. No.          </th> <td>    6.65</td>\n",
       "</tr>\n",
       "</table><br/><br/>Warnings:<br/>[1] Standard Errors assume that the covariance matrix of the errors is correctly specified."
      ],
      "text/plain": [
       "<class 'statsmodels.iolib.summary.Summary'>\n",
       "\"\"\"\n",
       "                            OLS Regression Results                            \n",
       "==============================================================================\n",
       "Dep. Variable:                quality   R-squared:                       0.000\n",
       "Model:                            OLS   Adj. R-squared:                 -0.001\n",
       "Method:                 Least Squares   F-statistic:                    0.2525\n",
       "Date:                Sun, 26 Aug 2018   Prob (F-statistic):              0.615\n",
       "Time:                        16:47:18   Log-Likelihood:                -1663.9\n",
       "No. Observations:                1359   AIC:                             3332.\n",
       "Df Residuals:                    1357   BIC:                             3342.\n",
       "Df Model:                           1                                         \n",
       "Covariance Type:            nonrobust                                         \n",
       "==================================================================================\n",
       "                     coef    std err          t      P>|t|      [0.025      0.975]\n",
       "----------------------------------------------------------------------------------\n",
       "const              5.6023      0.047    118.385      0.000       5.509       5.695\n",
       "residual sugar     0.0083      0.017      0.503      0.615      -0.024       0.041\n",
       "==============================================================================\n",
       "Omnibus:                       13.294   Durbin-Watson:                   1.747\n",
       "Prob(Omnibus):                  0.001   Jarque-Bera (JB):               14.472\n",
       "Skew:                           0.189   Prob(JB):                     0.000720\n",
       "Kurtosis:                       3.335   Cond. No.                         6.65\n",
       "==============================================================================\n",
       "\n",
       "Warnings:\n",
       "[1] Standard Errors assume that the covariance matrix of the errors is correctly specified.\n",
       "\"\"\""
      ]
     },
     "execution_count": 17,
     "metadata": {},
     "output_type": "execute_result"
    }
   ],
   "source": [
    "# Perform a single linear regression\n",
    "x = sm.add_constant(wine_data['residual sugar'])\n",
    "y = wine_data['quality']\n",
    "\n",
    "sugar_model = sm.OLS(y, x).fit()\n",
    "predictions = sugar_model.predict(x) # make the predictions by the model\n",
    "\n",
    "# Print out the statistics\n",
    "sugar_model.summary()"
   ]
  },
  {
   "cell_type": "markdown",
   "metadata": {},
   "source": [
    "The regression revealed that residual sugar is <i>not</i> a good predictor of wine quality, as indicated by an R-squared of 0.00, suggesting that this model accounts for 0% of the variance.\n",
    "\n",
    "<b>Is wine quality predicted by acidity?</b>\n",
    "\n",
    "Our next step will be to add more independent variables to the model. Specifically, we'll use a multiple linear regression to assess whether wine quality is predicted by any of the three predictor variables alluding to acidity in their name (i.e. <b>citric acid</b>, <b>fixed acidity</b>, and <b>volatile acidity</b>)."
   ]
  },
  {
   "cell_type": "code",
   "execution_count": 18,
   "metadata": {},
   "outputs": [
    {
     "data": {
      "text/html": [
       "<table class=\"simpletable\">\n",
       "<caption>OLS Regression Results</caption>\n",
       "<tr>\n",
       "  <th>Dep. Variable:</th>         <td>quality</td>     <th>  R-squared:         </th> <td>   0.951</td>\n",
       "</tr>\n",
       "<tr>\n",
       "  <th>Model:</th>                   <td>OLS</td>       <th>  Adj. R-squared:    </th> <td>   0.951</td>\n",
       "</tr>\n",
       "<tr>\n",
       "  <th>Method:</th>             <td>Least Squares</td>  <th>  F-statistic:       </th> <td>   8853.</td>\n",
       "</tr>\n",
       "<tr>\n",
       "  <th>Date:</th>             <td>Sun, 26 Aug 2018</td> <th>  Prob (F-statistic):</th>  <td>  0.00</td> \n",
       "</tr>\n",
       "<tr>\n",
       "  <th>Time:</th>                 <td>16:47:18</td>     <th>  Log-Likelihood:    </th> <td> -2234.4</td>\n",
       "</tr>\n",
       "<tr>\n",
       "  <th>No. Observations:</th>      <td>  1359</td>      <th>  AIC:               </th> <td>   4475.</td>\n",
       "</tr>\n",
       "<tr>\n",
       "  <th>Df Residuals:</th>          <td>  1356</td>      <th>  BIC:               </th> <td>   4490.</td>\n",
       "</tr>\n",
       "<tr>\n",
       "  <th>Df Model:</th>              <td>     3</td>      <th>                     </th>     <td> </td>   \n",
       "</tr>\n",
       "<tr>\n",
       "  <th>Covariance Type:</th>      <td>nonrobust</td>    <th>                     </th>     <td> </td>   \n",
       "</tr>\n",
       "</table>\n",
       "<table class=\"simpletable\">\n",
       "<tr>\n",
       "          <td></td>            <th>coef</th>     <th>std err</th>      <th>t</th>      <th>P>|t|</th>  <th>[0.025</th>    <th>0.975]</th>  \n",
       "</tr>\n",
       "<tr>\n",
       "  <th>citric acid</th>      <td>   -0.2461</td> <td>    0.275</td> <td>   -0.894</td> <td> 0.371</td> <td>   -0.786</td> <td>    0.294</td>\n",
       "</tr>\n",
       "<tr>\n",
       "  <th>fixed acidity</th>    <td>    0.5489</td> <td>    0.019</td> <td>   28.238</td> <td> 0.000</td> <td>    0.511</td> <td>    0.587</td>\n",
       "</tr>\n",
       "<tr>\n",
       "  <th>volatile acidity</th> <td>    1.8411</td> <td>    0.191</td> <td>    9.660</td> <td> 0.000</td> <td>    1.467</td> <td>    2.215</td>\n",
       "</tr>\n",
       "</table>\n",
       "<table class=\"simpletable\">\n",
       "<tr>\n",
       "  <th>Omnibus:</th>       <td>17.218</td> <th>  Durbin-Watson:     </th> <td>   1.580</td>\n",
       "</tr>\n",
       "<tr>\n",
       "  <th>Prob(Omnibus):</th> <td> 0.000</td> <th>  Jarque-Bera (JB):  </th> <td>  22.238</td>\n",
       "</tr>\n",
       "<tr>\n",
       "  <th>Skew:</th>          <td>-0.165</td> <th>  Prob(JB):          </th> <td>1.48e-05</td>\n",
       "</tr>\n",
       "<tr>\n",
       "  <th>Kurtosis:</th>      <td> 3.532</td> <th>  Cond. No.          </th> <td>    77.4</td>\n",
       "</tr>\n",
       "</table><br/><br/>Warnings:<br/>[1] Standard Errors assume that the covariance matrix of the errors is correctly specified."
      ],
      "text/plain": [
       "<class 'statsmodels.iolib.summary.Summary'>\n",
       "\"\"\"\n",
       "                            OLS Regression Results                            \n",
       "==============================================================================\n",
       "Dep. Variable:                quality   R-squared:                       0.951\n",
       "Model:                            OLS   Adj. R-squared:                  0.951\n",
       "Method:                 Least Squares   F-statistic:                     8853.\n",
       "Date:                Sun, 26 Aug 2018   Prob (F-statistic):               0.00\n",
       "Time:                        16:47:18   Log-Likelihood:                -2234.4\n",
       "No. Observations:                1359   AIC:                             4475.\n",
       "Df Residuals:                    1356   BIC:                             4490.\n",
       "Df Model:                           3                                         \n",
       "Covariance Type:            nonrobust                                         \n",
       "====================================================================================\n",
       "                       coef    std err          t      P>|t|      [0.025      0.975]\n",
       "------------------------------------------------------------------------------------\n",
       "citric acid         -0.2461      0.275     -0.894      0.371      -0.786       0.294\n",
       "fixed acidity        0.5489      0.019     28.238      0.000       0.511       0.587\n",
       "volatile acidity     1.8411      0.191      9.660      0.000       1.467       2.215\n",
       "==============================================================================\n",
       "Omnibus:                       17.218   Durbin-Watson:                   1.580\n",
       "Prob(Omnibus):                  0.000   Jarque-Bera (JB):               22.238\n",
       "Skew:                          -0.165   Prob(JB):                     1.48e-05\n",
       "Kurtosis:                       3.532   Cond. No.                         77.4\n",
       "==============================================================================\n",
       "\n",
       "Warnings:\n",
       "[1] Standard Errors assume that the covariance matrix of the errors is correctly specified.\n",
       "\"\"\""
      ]
     },
     "execution_count": 18,
     "metadata": {},
     "output_type": "execute_result"
    }
   ],
   "source": [
    "# Perform a multiple linear regression\n",
    "x = wine_data[['citric acid', 'fixed acidity', 'volatile acidity']]\n",
    "y = wine_data['quality']\n",
    "\n",
    "acidity_model = sm.OLS(y, x).fit()\n",
    "predictions = acidity_model.predict(x) # make the predictions by the model\n",
    "\n",
    "# Print out the statistics\n",
    "acidity_model.summary()"
   ]
  },
  {
   "cell_type": "markdown",
   "metadata": {},
   "source": [
    "This model fit is much better, accounting for 95.1% of the variance. It seems we're on to something with acidity being a meaningful predictor of wine quality. \n",
    "\n",
    "<b>However</b>, a closer look at the model output suggests that while <b>fixed acidity</b> and <b>volatile acidity</b> are significant predictors, citric acid might not be as predictive. We should re-run the model without citric acid to see if we can improve the model fit."
   ]
  },
  {
   "cell_type": "code",
   "execution_count": 19,
   "metadata": {},
   "outputs": [
    {
     "data": {
      "text/html": [
       "<table class=\"simpletable\">\n",
       "<caption>OLS Regression Results</caption>\n",
       "<tr>\n",
       "  <th>Dep. Variable:</th>         <td>quality</td>     <th>  R-squared:         </th> <td>   0.951</td> \n",
       "</tr>\n",
       "<tr>\n",
       "  <th>Model:</th>                   <td>OLS</td>       <th>  Adj. R-squared:    </th> <td>   0.951</td> \n",
       "</tr>\n",
       "<tr>\n",
       "  <th>Method:</th>             <td>Least Squares</td>  <th>  F-statistic:       </th> <td>1.328e+04</td>\n",
       "</tr>\n",
       "<tr>\n",
       "  <th>Date:</th>             <td>Sun, 26 Aug 2018</td> <th>  Prob (F-statistic):</th>  <td>  0.00</td>  \n",
       "</tr>\n",
       "<tr>\n",
       "  <th>Time:</th>                 <td>16:47:18</td>     <th>  Log-Likelihood:    </th> <td> -2234.8</td> \n",
       "</tr>\n",
       "<tr>\n",
       "  <th>No. Observations:</th>      <td>  1359</td>      <th>  AIC:               </th> <td>   4474.</td> \n",
       "</tr>\n",
       "<tr>\n",
       "  <th>Df Residuals:</th>          <td>  1357</td>      <th>  BIC:               </th> <td>   4484.</td> \n",
       "</tr>\n",
       "<tr>\n",
       "  <th>Df Model:</th>              <td>     2</td>      <th>                     </th>     <td> </td>    \n",
       "</tr>\n",
       "<tr>\n",
       "  <th>Covariance Type:</th>      <td>nonrobust</td>    <th>                     </th>     <td> </td>    \n",
       "</tr>\n",
       "</table>\n",
       "<table class=\"simpletable\">\n",
       "<tr>\n",
       "          <td></td>            <th>coef</th>     <th>std err</th>      <th>t</th>      <th>P>|t|</th>  <th>[0.025</th>    <th>0.975]</th>  \n",
       "</tr>\n",
       "<tr>\n",
       "  <th>fixed acidity</th>    <td>    0.5337</td> <td>    0.010</td> <td>   55.779</td> <td> 0.000</td> <td>    0.515</td> <td>    0.553</td>\n",
       "</tr>\n",
       "<tr>\n",
       "  <th>volatile acidity</th> <td>    1.9517</td> <td>    0.145</td> <td>   13.458</td> <td> 0.000</td> <td>    1.667</td> <td>    2.236</td>\n",
       "</tr>\n",
       "</table>\n",
       "<table class=\"simpletable\">\n",
       "<tr>\n",
       "  <th>Omnibus:</th>       <td>17.550</td> <th>  Durbin-Watson:     </th> <td>   1.578</td>\n",
       "</tr>\n",
       "<tr>\n",
       "  <th>Prob(Omnibus):</th> <td> 0.000</td> <th>  Jarque-Bera (JB):  </th> <td>  22.357</td>\n",
       "</tr>\n",
       "<tr>\n",
       "  <th>Skew:</th>          <td>-0.173</td> <th>  Prob(JB):          </th> <td>1.40e-05</td>\n",
       "</tr>\n",
       "<tr>\n",
       "  <th>Kurtosis:</th>      <td> 3.524</td> <th>  Cond. No.          </th> <td>    36.3</td>\n",
       "</tr>\n",
       "</table><br/><br/>Warnings:<br/>[1] Standard Errors assume that the covariance matrix of the errors is correctly specified."
      ],
      "text/plain": [
       "<class 'statsmodels.iolib.summary.Summary'>\n",
       "\"\"\"\n",
       "                            OLS Regression Results                            \n",
       "==============================================================================\n",
       "Dep. Variable:                quality   R-squared:                       0.951\n",
       "Model:                            OLS   Adj. R-squared:                  0.951\n",
       "Method:                 Least Squares   F-statistic:                 1.328e+04\n",
       "Date:                Sun, 26 Aug 2018   Prob (F-statistic):               0.00\n",
       "Time:                        16:47:18   Log-Likelihood:                -2234.8\n",
       "No. Observations:                1359   AIC:                             4474.\n",
       "Df Residuals:                    1357   BIC:                             4484.\n",
       "Df Model:                           2                                         \n",
       "Covariance Type:            nonrobust                                         \n",
       "====================================================================================\n",
       "                       coef    std err          t      P>|t|      [0.025      0.975]\n",
       "------------------------------------------------------------------------------------\n",
       "fixed acidity        0.5337      0.010     55.779      0.000       0.515       0.553\n",
       "volatile acidity     1.9517      0.145     13.458      0.000       1.667       2.236\n",
       "==============================================================================\n",
       "Omnibus:                       17.550   Durbin-Watson:                   1.578\n",
       "Prob(Omnibus):                  0.000   Jarque-Bera (JB):               22.357\n",
       "Skew:                          -0.173   Prob(JB):                     1.40e-05\n",
       "Kurtosis:                       3.524   Cond. No.                         36.3\n",
       "==============================================================================\n",
       "\n",
       "Warnings:\n",
       "[1] Standard Errors assume that the covariance matrix of the errors is correctly specified.\n",
       "\"\"\""
      ]
     },
     "execution_count": 19,
     "metadata": {},
     "output_type": "execute_result"
    }
   ],
   "source": [
    "# Rerun the multiple linear regression without citric acid\n",
    "x = wine_data[['fixed acidity', 'volatile acidity']]\n",
    "y = wine_data['quality']\n",
    "\n",
    "acidity_model_2 = sm.OLS(y, x).fit()\n",
    "predictions = acidity_model_2.predict(x) # make the predictions by the model\n",
    "\n",
    "# Print out the statistics\n",
    "acidity_model_2.summary()"
   ]
  },
  {
   "cell_type": "markdown",
   "metadata": {},
   "source": [
    "Results of the second multiple regression indicate that we haven't lost any precision in our model by removing <b>citric acid</b> as a predictor variable, suggesting that the variance in the original acidity model was accounted for mainly by <b>fixed</b> and <b>volatile acidity</b>. \n",
    "\n",
    "<b>Which factors most heavily predict wine quality?</b>\n",
    "\n",
    "Now that we know that some of the chemical variables are significant predictors of wine quality (i.e. <b>fixed acidity</b>, <b>volatile acidity</b>) and others aren't (i.e. <b>citric acid</b>, <b>residual sugar</b>), it begs the question of what else might predict wine quality. Perhaps there is another model, building on what we know about the acidity, to account for even more of the variance. \n",
    "<b>Note:</b> Because we already know that <b>citric acid</b> and <b>residual sugar</b> are not significant predictors, the full model excludes these."
   ]
  },
  {
   "cell_type": "code",
   "execution_count": 20,
   "metadata": {},
   "outputs": [
    {
     "data": {
      "text/html": [
       "<table class=\"simpletable\">\n",
       "<caption>OLS Regression Results</caption>\n",
       "<tr>\n",
       "  <th>Dep. Variable:</th>         <td>quality</td>     <th>  R-squared:         </th> <td>   0.987</td> \n",
       "</tr>\n",
       "<tr>\n",
       "  <th>Model:</th>                   <td>OLS</td>       <th>  Adj. R-squared:    </th> <td>   0.987</td> \n",
       "</tr>\n",
       "<tr>\n",
       "  <th>Method:</th>             <td>Least Squares</td>  <th>  F-statistic:       </th> <td>1.107e+04</td>\n",
       "</tr>\n",
       "<tr>\n",
       "  <th>Date:</th>             <td>Sun, 26 Aug 2018</td> <th>  Prob (F-statistic):</th>  <td>  0.00</td>  \n",
       "</tr>\n",
       "<tr>\n",
       "  <th>Time:</th>                 <td>16:51:37</td>     <th>  Log-Likelihood:    </th> <td> -1357.4</td> \n",
       "</tr>\n",
       "<tr>\n",
       "  <th>No. Observations:</th>      <td>  1359</td>      <th>  AIC:               </th> <td>   2733.</td> \n",
       "</tr>\n",
       "<tr>\n",
       "  <th>Df Residuals:</th>          <td>  1350</td>      <th>  BIC:               </th> <td>   2780.</td> \n",
       "</tr>\n",
       "<tr>\n",
       "  <th>Df Model:</th>              <td>     9</td>      <th>                     </th>     <td> </td>    \n",
       "</tr>\n",
       "<tr>\n",
       "  <th>Covariance Type:</th>      <td>nonrobust</td>    <th>                     </th>     <td> </td>    \n",
       "</tr>\n",
       "</table>\n",
       "<table class=\"simpletable\">\n",
       "<tr>\n",
       "            <td></td>              <th>coef</th>     <th>std err</th>      <th>t</th>      <th>P>|t|</th>  <th>[0.025</th>    <th>0.975]</th>  \n",
       "</tr>\n",
       "<tr>\n",
       "  <th>fixed acidity</th>        <td>   -0.0098</td> <td>    0.015</td> <td>   -0.641</td> <td> 0.522</td> <td>   -0.040</td> <td>    0.020</td>\n",
       "</tr>\n",
       "<tr>\n",
       "  <th>volatile acidity</th>     <td>   -1.0584</td> <td>    0.109</td> <td>   -9.689</td> <td> 0.000</td> <td>   -1.273</td> <td>   -0.844</td>\n",
       "</tr>\n",
       "<tr>\n",
       "  <th>chlorides</th>            <td>   -2.0752</td> <td>    0.429</td> <td>   -4.840</td> <td> 0.000</td> <td>   -2.916</td> <td>   -1.234</td>\n",
       "</tr>\n",
       "<tr>\n",
       "  <th>free sulfur dioxide</th>  <td>    0.0038</td> <td>    0.002</td> <td>    1.636</td> <td> 0.102</td> <td>   -0.001</td> <td>    0.008</td>\n",
       "</tr>\n",
       "<tr>\n",
       "  <th>total sulfur dioxide</th> <td>   -0.0030</td> <td>    0.001</td> <td>   -3.898</td> <td> 0.000</td> <td>   -0.004</td> <td>   -0.001</td>\n",
       "</tr>\n",
       "<tr>\n",
       "  <th>density</th>              <td>    4.5563</td> <td>    0.693</td> <td>    6.570</td> <td> 0.000</td> <td>    3.196</td> <td>    5.917</td>\n",
       "</tr>\n",
       "<tr>\n",
       "  <th>pH</th>                   <td>   -0.5177</td> <td>    0.179</td> <td>   -2.900</td> <td> 0.004</td> <td>   -0.868</td> <td>   -0.168</td>\n",
       "</tr>\n",
       "<tr>\n",
       "  <th>sulphates</th>            <td>    0.8917</td> <td>    0.123</td> <td>    7.273</td> <td> 0.000</td> <td>    0.651</td> <td>    1.132</td>\n",
       "</tr>\n",
       "<tr>\n",
       "  <th>alcohol</th>              <td>    0.2981</td> <td>    0.018</td> <td>   16.298</td> <td> 0.000</td> <td>    0.262</td> <td>    0.334</td>\n",
       "</tr>\n",
       "</table>\n",
       "<table class=\"simpletable\">\n",
       "<tr>\n",
       "  <th>Omnibus:</th>       <td>24.479</td> <th>  Durbin-Watson:     </th> <td>   1.780</td>\n",
       "</tr>\n",
       "<tr>\n",
       "  <th>Prob(Omnibus):</th> <td> 0.000</td> <th>  Jarque-Bera (JB):  </th> <td>  34.316</td>\n",
       "</tr>\n",
       "<tr>\n",
       "  <th>Skew:</th>          <td>-0.197</td> <th>  Prob(JB):          </th> <td>3.54e-08</td>\n",
       "</tr>\n",
       "<tr>\n",
       "  <th>Kurtosis:</th>      <td> 3.671</td> <th>  Cond. No.          </th> <td>2.49e+03</td>\n",
       "</tr>\n",
       "</table><br/><br/>Warnings:<br/>[1] Standard Errors assume that the covariance matrix of the errors is correctly specified.<br/>[2] The condition number is large, 2.49e+03. This might indicate that there are<br/>strong multicollinearity or other numerical problems."
      ],
      "text/plain": [
       "<class 'statsmodels.iolib.summary.Summary'>\n",
       "\"\"\"\n",
       "                            OLS Regression Results                            \n",
       "==============================================================================\n",
       "Dep. Variable:                quality   R-squared:                       0.987\n",
       "Model:                            OLS   Adj. R-squared:                  0.987\n",
       "Method:                 Least Squares   F-statistic:                 1.107e+04\n",
       "Date:                Sun, 26 Aug 2018   Prob (F-statistic):               0.00\n",
       "Time:                        16:51:37   Log-Likelihood:                -1357.4\n",
       "No. Observations:                1359   AIC:                             2733.\n",
       "Df Residuals:                    1350   BIC:                             2780.\n",
       "Df Model:                           9                                         \n",
       "Covariance Type:            nonrobust                                         \n",
       "========================================================================================\n",
       "                           coef    std err          t      P>|t|      [0.025      0.975]\n",
       "----------------------------------------------------------------------------------------\n",
       "fixed acidity           -0.0098      0.015     -0.641      0.522      -0.040       0.020\n",
       "volatile acidity        -1.0584      0.109     -9.689      0.000      -1.273      -0.844\n",
       "chlorides               -2.0752      0.429     -4.840      0.000      -2.916      -1.234\n",
       "free sulfur dioxide      0.0038      0.002      1.636      0.102      -0.001       0.008\n",
       "total sulfur dioxide    -0.0030      0.001     -3.898      0.000      -0.004      -0.001\n",
       "density                  4.5563      0.693      6.570      0.000       3.196       5.917\n",
       "pH                      -0.5177      0.179     -2.900      0.004      -0.868      -0.168\n",
       "sulphates                0.8917      0.123      7.273      0.000       0.651       1.132\n",
       "alcohol                  0.2981      0.018     16.298      0.000       0.262       0.334\n",
       "==============================================================================\n",
       "Omnibus:                       24.479   Durbin-Watson:                   1.780\n",
       "Prob(Omnibus):                  0.000   Jarque-Bera (JB):               34.316\n",
       "Skew:                          -0.197   Prob(JB):                     3.54e-08\n",
       "Kurtosis:                       3.671   Cond. No.                     2.49e+03\n",
       "==============================================================================\n",
       "\n",
       "Warnings:\n",
       "[1] Standard Errors assume that the covariance matrix of the errors is correctly specified.\n",
       "[2] The condition number is large, 2.49e+03. This might indicate that there are\n",
       "strong multicollinearity or other numerical problems.\n",
       "\"\"\""
      ]
     },
     "execution_count": 20,
     "metadata": {},
     "output_type": "execute_result"
    }
   ],
   "source": [
    "# Rerun the multiple linear regression without citric acid\n",
    "x = wine_data[['fixed acidity', 'volatile acidity', 'chlorides', 'free sulfur dioxide', 'total sulfur dioxide', 'density', 'pH', 'sulphates', 'alcohol']]\n",
    "y = wine_data['quality']\n",
    "\n",
    "large_model = sm.OLS(y, x).fit()\n",
    "predictions = large_model.predict(x) # make the predictions by the model\n",
    "\n",
    "# Print out the statistics\n",
    "large_model.summary()"
   ]
  },
  {
   "cell_type": "markdown",
   "metadata": {},
   "source": [
    "The full model is very interesting. The R-squared is higher, which is unsurprising, since we know that more independent variables have a better likelihood of accounting for more of the variance. However, the higher R-squared also tells us that our previous models were not the best ones. \n",
    "\n",
    "For example, looking at the t-statistic for <b>alcohol</b>, this is the highest of the group, suggesting it may also be a significant predictor of wine quality. Interestingly, while <b>volatile acidity</b> significantly contributes to this model, <b>fixed acidity</b> does not. \n",
    "\n",
    "Let's choose the variables that most significantly contribute to the model (i.e. <b>alcohol</b>, <b>volatile acidity</b>, <b>sulphates</b>) and re-run the multiple regression."
   ]
  },
  {
   "cell_type": "code",
   "execution_count": 22,
   "metadata": {},
   "outputs": [
    {
     "data": {
      "text/html": [
       "<table class=\"simpletable\">\n",
       "<caption>OLS Regression Results</caption>\n",
       "<tr>\n",
       "  <th>Dep. Variable:</th>         <td>quality</td>     <th>  R-squared:         </th> <td>   0.985</td> \n",
       "</tr>\n",
       "<tr>\n",
       "  <th>Model:</th>                   <td>OLS</td>       <th>  Adj. R-squared:    </th> <td>   0.985</td> \n",
       "</tr>\n",
       "<tr>\n",
       "  <th>Method:</th>             <td>Least Squares</td>  <th>  F-statistic:       </th> <td>2.912e+04</td>\n",
       "</tr>\n",
       "<tr>\n",
       "  <th>Date:</th>             <td>Sun, 26 Aug 2018</td> <th>  Prob (F-statistic):</th>  <td>  0.00</td>  \n",
       "</tr>\n",
       "<tr>\n",
       "  <th>Time:</th>                 <td>17:02:47</td>     <th>  Log-Likelihood:    </th> <td> -1448.6</td> \n",
       "</tr>\n",
       "<tr>\n",
       "  <th>No. Observations:</th>      <td>  1359</td>      <th>  AIC:               </th> <td>   2903.</td> \n",
       "</tr>\n",
       "<tr>\n",
       "  <th>Df Residuals:</th>          <td>  1356</td>      <th>  BIC:               </th> <td>   2919.</td> \n",
       "</tr>\n",
       "<tr>\n",
       "  <th>Df Model:</th>              <td>     3</td>      <th>                     </th>     <td> </td>    \n",
       "</tr>\n",
       "<tr>\n",
       "  <th>Covariance Type:</th>      <td>nonrobust</td>    <th>                     </th>     <td> </td>    \n",
       "</tr>\n",
       "</table>\n",
       "<table class=\"simpletable\">\n",
       "<tr>\n",
       "          <td></td>            <th>coef</th>     <th>std err</th>      <th>t</th>      <th>P>|t|</th>  <th>[0.025</th>    <th>0.975]</th>  \n",
       "</tr>\n",
       "<tr>\n",
       "  <th>alcohol</th>          <td>    0.4952</td> <td>    0.009</td> <td>   56.755</td> <td> 0.000</td> <td>    0.478</td> <td>    0.512</td>\n",
       "</tr>\n",
       "<tr>\n",
       "  <th>volatile acidity</th> <td>   -0.6230</td> <td>    0.095</td> <td>   -6.542</td> <td> 0.000</td> <td>   -0.810</td> <td>   -0.436</td>\n",
       "</tr>\n",
       "<tr>\n",
       "  <th>sulphates</th>        <td>    1.1661</td> <td>    0.108</td> <td>   10.834</td> <td> 0.000</td> <td>    0.955</td> <td>    1.377</td>\n",
       "</tr>\n",
       "</table>\n",
       "<table class=\"simpletable\">\n",
       "<tr>\n",
       "  <th>Omnibus:</th>       <td>62.887</td> <th>  Durbin-Watson:     </th> <td>   1.736</td>\n",
       "</tr>\n",
       "<tr>\n",
       "  <th>Prob(Omnibus):</th> <td> 0.000</td> <th>  Jarque-Bera (JB):  </th> <td>  97.540</td>\n",
       "</tr>\n",
       "<tr>\n",
       "  <th>Skew:</th>          <td>-0.393</td> <th>  Prob(JB):          </th> <td>6.60e-22</td>\n",
       "</tr>\n",
       "<tr>\n",
       "  <th>Kurtosis:</th>      <td> 4.051</td> <th>  Cond. No.          </th> <td>    60.1</td>\n",
       "</tr>\n",
       "</table><br/><br/>Warnings:<br/>[1] Standard Errors assume that the covariance matrix of the errors is correctly specified."
      ],
      "text/plain": [
       "<class 'statsmodels.iolib.summary.Summary'>\n",
       "\"\"\"\n",
       "                            OLS Regression Results                            \n",
       "==============================================================================\n",
       "Dep. Variable:                quality   R-squared:                       0.985\n",
       "Model:                            OLS   Adj. R-squared:                  0.985\n",
       "Method:                 Least Squares   F-statistic:                 2.912e+04\n",
       "Date:                Sun, 26 Aug 2018   Prob (F-statistic):               0.00\n",
       "Time:                        17:02:47   Log-Likelihood:                -1448.6\n",
       "No. Observations:                1359   AIC:                             2903.\n",
       "Df Residuals:                    1356   BIC:                             2919.\n",
       "Df Model:                           3                                         \n",
       "Covariance Type:            nonrobust                                         \n",
       "====================================================================================\n",
       "                       coef    std err          t      P>|t|      [0.025      0.975]\n",
       "------------------------------------------------------------------------------------\n",
       "alcohol              0.4952      0.009     56.755      0.000       0.478       0.512\n",
       "volatile acidity    -0.6230      0.095     -6.542      0.000      -0.810      -0.436\n",
       "sulphates            1.1661      0.108     10.834      0.000       0.955       1.377\n",
       "==============================================================================\n",
       "Omnibus:                       62.887   Durbin-Watson:                   1.736\n",
       "Prob(Omnibus):                  0.000   Jarque-Bera (JB):               97.540\n",
       "Skew:                          -0.393   Prob(JB):                     6.60e-22\n",
       "Kurtosis:                       4.051   Cond. No.                         60.1\n",
       "==============================================================================\n",
       "\n",
       "Warnings:\n",
       "[1] Standard Errors assume that the covariance matrix of the errors is correctly specified.\n",
       "\"\"\""
      ]
     },
     "execution_count": 22,
     "metadata": {},
     "output_type": "execute_result"
    }
   ],
   "source": [
    "# Rerun the multiple linear regression without citric acid\n",
    "x = wine_data[['alcohol', 'volatile acidity', 'sulphates']]\n",
    "y = wine_data['quality']\n",
    "\n",
    "reduced_model = sm.OLS(y, x).fit()\n",
    "predictions = reduced_model.predict(x) # make the predictions by the model\n",
    "\n",
    "# Print out the statistics\n",
    "reduced_model.summary()"
   ]
  },
  {
   "cell_type": "markdown",
   "metadata": {},
   "source": [
    "Good news: the R-squared indicates that a model with these three predictor variables--alcohol, volatile acidity, and sulphates--accounts for 98.5% of the variance. This model is more precise that the large model and clearly tells us that, of the physicochemical properties, the biggest predictor of wine quality is <b>alcohol</b>, followed by <b>volatile acidity</b> and <b>sulphates</b> and <b>volatile acidity</b>."
   ]
  },
  {
   "cell_type": "code",
   "execution_count": 24,
   "metadata": {},
   "outputs": [
    {
     "data": {
      "image/png": "[encoded data removed]",
      "text/plain": [
       "<Figure size 432x288 with 1 Axes>"
      ]
     },
     "metadata": {},
     "output_type": "display_data"
    }
   ],
   "source": [
    "# Plot the relationship between alcohol and wine quality\n",
    "wine_data.plot(kind='scatter', x='alcohol', y='quality')\n",
    "plt.show()"
   ]
  }
 ],
 "metadata": {
  "kernelspec": {
   "display_name": "Python 3",
   "language": "python",
   "name": "python3"
  },
  "language_info": {
   "codemirror_mode": {
    "name": "ipython",
    "version": 3
   },
   "file_extension": ".py",
   "mimetype": "text/x-python",
   "name": "python",
   "nbconvert_exporter": "python",
   "pygments_lexer": "ipython3",
   "version": "3.6.5"
  }
 },
 "nbformat": 4,
 "nbformat_minor": 2
}
